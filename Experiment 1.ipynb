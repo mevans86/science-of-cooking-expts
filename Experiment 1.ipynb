{
 "cells": [
  {
   "cell_type": "markdown",
   "metadata": {},
   "source": [
    "# Experiment 1. Weights, Measures, and Flavor\n",
    "\n",
    "The first experiment focuses on the accuracy and precision of measurements we make in the kitchen and introduces the idea that flavors interact in complex and emergent ways."
   ]
  },
  {
   "cell_type": "markdown",
   "metadata": {},
   "source": [
    "# I. Calibrating Your Oven Using a Chemical Reaction\n",
    "\n",
    "When you set your oven to 400 ºF (204 ºC), is this the actual temperature inside? In this experiment, we will use a chemical reaction that occurs at a known and well-defined temperature to calibrate your oven. The reaction we will study is the decomposition of [table sugar](https://en.wikipedia.org/wiki/Sucrose), which begins at 366 ºF (186 ºC). Assuming your oven is accurate, decomposition will begin when the oven temperature is set to 366 ºF. However, most ovens are fairly inaccurate and exhibit spatial inhomogeneity: the temperature is different at different points within the oven.\n",
    "\n",
    "## Utensils and Appliances\n",
    "\n",
    "- Measuring cups\n",
    "- Oven\n",
    "\n",
    "## Ingredients\n",
    "\n",
    "- 0.5 cup granulated sugar\n",
    "\n",
    "## Directions\n",
    "\n",
    "1. Pre-heat your oven to 350 ºF (177 ºC).\n",
    "2. Place the granulated sugar in an oven-proof dish or on a sheet of aluminum foil. If you use aluminum foil, fold up the edges to avoid leaking liquid onto the bottom of your oven.\n",
    "3. Place the sugar in the oven for 15 minutes, allowing it to heat up. Look for \"melting\" of the sugar into a dark, liquid syrup. Note the location of the sugar in your oven using the level of the rack and horizontal position (left, middle, or right).\n",
    "4. If the sugar doesn't melt, raise the temperature of your oven by 5 ºF (2 ºC) and continue to look for a \"melting\" transition. If you have the capability, you can raise the temperature of your oven by 1 ºF for greater precision.\n",
    "5. Continue to repeat the previous step until you observe a \"melting\" transition in the sugar. Record the temperature displayed by your oven when this transition occurs. We will call this temperature $T_{dec}$.\n",
    "6. From this measurement and your observations, we can conclude that sugar decomposes at some temperature between $T_{dec} - 5 \\; ^\\circ\\mathrm{F}$ and $T_{dec}$. Use the interactive below to generate a calibration curve for your oven. This curve assumes a linear increase in temperature with a slope equal to 1 ºF/ºF and assumes that sugar melts right at your measured $T_{dec}$.\n",
    "7. ___Optional.___ Repeat the steps above to measure the decomposition temperature of sugar at different points in your oven. Is the temperature inside your oven homogeneous?"
   ]
  },
  {
   "cell_type": "code",
   "execution_count": 2,
   "metadata": {
    "tags": [
     "interactive"
    ]
   },
   "outputs": [
    {
     "data": {
      "image/png": "[encoded data removed]",
      "text/plain": [
       "<Figure size 432x288 with 1 Axes>"
      ]
     },
     "metadata": {
      "needs_background": "light"
     },
     "output_type": "display_data"
    }
   ],
   "source": [
    "import numpy as np\n",
    "import matplotlib.pyplot as pyplot\n",
    "\n",
    "T_dec = 370 # Change this value to your measured T_dec in degrees Fahrenheit\n",
    "\n",
    "x = range(100, 500, 1)\n",
    "y = [T_meas + (366 - T_dec) for T_meas in x]\n",
    "pyplot.plot(x,y)\n",
    "pyplot.xlabel(\"Measured Temperature (ºF)\")\n",
    "pyplot.ylabel(\"Actual Temperature (ºF)\")\n",
    "pyplot.title(\"Calibration Curve for Your Oven: $T_{act} = T_{meas} + (366 - T_{dec})$\")\n",
    "pyplot.grid(b=True, which='major', color='lightgray')\n",
    "pyplot.show()\n",
    "\n",
    "# Click in this cell and press Shift-Enter to execute its code"
   ]
  },
  {
   "cell_type": "markdown",
   "metadata": {},
   "source": [
    "# II. Calibrating Your Oven Using a Thermometer\n",
    "\n",
    "Now, we will use an oven thermometer to collect multiple temperature points and construct a calibration curve for your oven from the temperatures reported by the oven ($T_{dial}$) and those measured by the thermometer ($T_{therm}$ or $T_{act}$). Hold onto the equation that is generated in this exercise—you will need it later!\n",
    "\n",
    "## Utensils and Appliances\n",
    "\n",
    "- Oven thermometer ([example](https://www.amazon.com/Rubbermaid-Commercial-FGTHO550-Monitoring-Thermometer/dp/B005KDEIZ0/ref=sxin_2_osp20-98df92ba_cov))\n",
    "- Oven\n",
    "\n",
    "## Directions\n",
    "\n",
    "1. Check the temperature range of your thermometer. Ensure that it can withstand temperatures as high at 500 ºF. If it can't, skip this part of the lab!\n",
    "2. Place the thermometer inside your oven such that its reading is visible through the window.\n",
    "3. Pre-heat your oven to 350 ºF (177 ºC). When the oven indicates that pre-heating is complete, record the displayed temperature (350 ºF or 177 ºC) and the temperature indicated on the thermometer.\n",
    "4. Repeat the previous step at nine additional temperatures between 350 and 500 ºF (177 and 260 ºC).\n",
    "5. Use the interactive below to plot your data and generate a line of best fit. How does this calibration curve compare to the one generated using the decomposition of sugar? Record the equation of the line of best fit, which you can use to \"convert\" a temperature on the display into the actual temperature inside the oven."
   ]
  },
  {
   "cell_type": "code",
   "execution_count": null,
   "metadata": {
    "tags": [
     "interactive"
    ]
   },
   "outputs": [],
   "source": [
    "from scipy import stats\n",
    "import numpy as np\n",
    "import matplotlib.pyplot as pyplot\n",
    "from IPython.display import display, Math\n",
    "\n",
    "# Fill in the temperatures on your oven dial here, separated by commas\n",
    "T_dial = [350, 375, 390, 400, 420, 440, 460, 470, 480, 490]\n",
    "# Fill in the corresponding measured thermometer temperatures here, separated by commas\n",
    "T_therm = [345, 370, 388, 402, 415, 438, 457, 466, 474, 487]\n",
    "\n",
    "slope, intercept, r_value, p_value, std_err = stats.linregress(T_dial, T_therm)\n",
    "\n",
    "T_best = [T * slope + intercept for T in T_dial]\n",
    "pyplot.plot(T_dial, T_best)\n",
    "pyplot.scatter(T_dial, T_therm)\n",
    "pyplot.xlabel(\"Dial Temperature (ºF)\")\n",
    "pyplot.ylabel(\"Actual Temperature (ºF)\")\n",
    "pyplot.title(\"Calibration Curve for Your Oven: $T_{act} = mT_{dial} + b$\")\n",
    "pyplot.grid(b=True, which='major', color='lightgray')\n",
    "pyplot.show()\n",
    "display(Math(\"$T_{act} = \" + str(round(slope, 3)) + \"T_{dial} + \" + str(round(intercept,3)) + \"$\"))\n",
    "\n",
    "# Click in this cell and press Shift-Enter to execute its code"
   ]
  },
  {
   "cell_type": "markdown",
   "metadata": {},
   "source": [
    "# III. Weighing Ingredients\n",
    "\n",
    "In the United States, we most commonly measure ingredients by volume. Measuring by volume is convenient and doesn't require any instrumentation beyond simple measuring cups and spoons. However, measuring by volume has limitations. In studying the _science_ of cooking, we are interested not in the volume of an ingredient, but in the _numbers of molecules_ of various types contributed to a food by an ingredient. Because the densities of ingredients differ, volume is not a useful measure of number of molecules. Instead, measuring ingredients by weight is much more reliable. Measuring by weight is the standard in professional bakeries and in other contexts in which precise control over amounts of ingredients is necessary.\n",
    "\n",
    "## Utensils and Appliances\n",
    "\n",
    "- Measuring cups\n",
    "- Kitchen scale\n",
    "\n",
    "## Ingredients\n",
    "\n",
    "- Water\n",
    "- All-purpose flour\n",
    "\n",
    "## Directions\n",
    "\n",
    "1. Use your scale to measure the weight of 1 cup (8 fl oz, 237 mL) of water. If you weigh the water in the measuring cup, don't forget to subtract out the weight of the empty cup!\n",
    "2. Calculate the mass density of water in grams per milliliter using your measurements.\n",
    "3. Repeat the previous steps four more times to obtain five measurements of density.\n",
    "4. Assuming a \"true value\" of 1.00 g/mL for the density of water, calculate the [percent error](https://en.wikipedia.org/wiki/Relative_change_and_difference#Percent_error) of your average density. This can be done using the interactive below.\n",
    "5. Calculate the [standard deviation](https://en.wikipedia.org/wiki/Standard_deviation) of your densities using the interactive below. Are your measurements precise?\n",
    "6. Repeat the previous steps using all-purpose flour instead of water. Calculate the percent error and standard deviation of your flour densities assuming a \"true value\" of 0.58 g/mL for the density of flour (again, use the interactive below). Compare the accuracy and precision of this data to your water density data."
   ]
  },
  {
   "cell_type": "code",
   "execution_count": null,
   "metadata": {},
   "outputs": [],
   "source": [
    "import numpy as np\n",
    "\n",
    "water_densities = [0.98, 0.92, 1.03, 0.90, 0.91] # Fill in your water densities here\n",
    "mean_water_density = np.average(water_densities)\n",
    "\n",
    "water_density_pct_error = round(abs(mean_water_density - 1.0) / 1.0 * 100, 3)\n",
    "water_density_st_dev = round(np.std(water_densities), 3)\n",
    "\n",
    "print(\"Densities of water | Percent error = \" + str(water_density_pct_error) + \"%, Standard deviation = \" + str(water_density_st_dev))\n",
    "\n",
    "flour_densities = [0.88, 0.61, 0.71, 0.37, 0.75] # Fill in your flour densities here\n",
    "mean_flour_density = np.average(flour_densities)\n",
    "\n",
    "flour_density_pct_error = round(abs(mean_flour_density - 0.58) / 0.58 * 100, 3)\n",
    "flour_density_st_dev = round(np.std(flour_densities), 3)\n",
    "\n",
    "print(\"Densities of flour | Percent error = \" + str(flour_density_pct_error) + \"%, Standard deviation = \" + str(flour_density_st_dev))\n",
    "\n",
    "# Click in this cell and press Shift-Enter to execute its code"
   ]
  },
  {
   "cell_type": "markdown",
   "metadata": {},
   "source": [
    "# IV. Sweetness and Acidity in Cola\n",
    "\n",
    "Now, we will begin exploring how combinations of ingredients create emergent flavor profiles that \"magically\" seem independent of the ingredients themselves. As an example, consider Coca-Cola. Atlanta's favorite soft drink contains a staggering amount of sugar: about 25 grams per cup. As you'll discover in this experiment, sugar water with this concentration does _not_ taste like Coca-Cola. This is because Coke contains another critical flavoring agent that interacts with the sweet flavor of the sugar: phosphoric acid. Here, we will see how sweetness and acidity interact in soft drinks to create a relatively muted flavor despite large amounts of sugar.\n",
    "\n",
    "## Utensils and Appliances\n",
    "\n",
    "- Measuring spoons\n",
    "- Measuring cups\n",
    "- Spoon for stirring\n",
    "- 3 drinking glasses\n",
    "\n",
    "## Ingredients\n",
    "\n",
    "- Granulated sugar\n",
    "- White wine vinegar (or regular vinegar)\n",
    "- Water\n",
    "\n",
    "## Directions\n",
    "\n",
    "1. Add 1 cup of water to a drinking glass. Add 1 teaspoon (tsp) of sugar to the glass and stir to dissolve the sugar. Taste the result and note your perceptions. Continue to add teaspoons of sugar and taste the results until you've added a total of 5 teaspoons. This is slightly less than the amount in Coca-Cola. At what point is the drink pleasantly sweet? At what point is it way too sweet? Record your observations.\n",
    "2. Pour half of the sugar-water into a separate glass and set it aside.\n",
    "3. To the original glass, add a quarter teaspoon of vinegar (0.25 tsp), stir to dissolve, and taste the result. Continue adding 0.25 tsp of vinegar until the drink tastes pleasant. Records how much vinegar you added to reach this point.\n",
    "4. To a third empty glass, add 1 cup of water and the amount of vinegar you added in the previous step (so that the liquid in this glass contains vinegar with no sugar). Taste the result and record your observations. Reflect on the differences between the sugar water, sugar/vinegar water, and vinegar water. Flavors can interact in complex and unexpected ways!"
   ]
  },
  {
   "cell_type": "code",
   "execution_count": null,
   "metadata": {},
   "outputs": [],
   "source": []
  }
 ],
 "metadata": {
  "kernelspec": {
   "display_name": "Python 3",
   "language": "python",
   "name": "python3"
  },
  "language_info": {
   "codemirror_mode": {
    "name": "ipython",
    "version": 3
   },
   "file_extension": ".py",
   "mimetype": "text/x-python",
   "name": "python",
   "nbconvert_exporter": "python",
   "pygments_lexer": "ipython3",
   "version": "3.7.5"
  }
 },
 "nbformat": 4,
 "nbformat_minor": 2
}
