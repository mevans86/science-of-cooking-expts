{
 "cells": [
  {
   "cell_type": "markdown",
   "metadata": {},
   "source": [
    "# Introduction to the Cooking Laboratory\n",
    "\n",
    "In this course, the kitchen is your laboratory. We will explore a number of different dishes and recipes that can be understood using scientific concepts and quantitative tools. Taking a scientific approach to cooking is valuable for a number of reasons. For example, some recipes (such as many baked goods) require great precision to execute well. An understanding of the science behind cooking will help you recognize when precision is required. A scientific approach can also help you substitute ingredients in a rational way and adapt a recipe when something goes wrong. The most fun reason to study the science of cooking is that it helps you be creative and create dishes that are _just right_ for your tastes!\n",
    "\n",
    "In the laboratory, we will typically investigate how different variables affect the outcomes of recipes. Variables of interest in the kitchen include temperature, time, and amounts of ingredients. In the first experiment, we will explore the precision and accuracy of measurements of these variables. We will see that although kitchen \"instruments\" are typically cheap and inaccurate, it is possible to calibrate them using well-understood processes. The second experiment focuses on temperature—specifically, its quantitative relation to heat and its effect on perceptions of various flavors. In the third experiment, we will turn our attention to lipids and focus on the solid-to-liquid (melting) phase transition in this important class of food molecules. Experiment 4 is all about diffusion, which can be used to explain how ingredients mix _and_ how applied heat moves through food. Finally, in the fifth and final experiment we will use a recipe for a delicious dish to measure the heat diffusion constant of water (and eat the fruits of our labor at the end, of course!)."
   ]
  },
  {
   "cell_type": "markdown",
   "metadata": {},
   "source": [
    "# Stocking Your Kitchen\n",
    "\n",
    "To complete the labs in this course, you will need a standard set of kitchen equipment and a space to cook. When I first learned to cook I had no idea what equipment was “standard,” so don’t worry if you don’t know either! Nothing particularly special is needed for the course—feel free to beg, borrow, and steal from your family and friends.\n",
    "\n",
    "Your kitchen space should include an oven and stove (gas or electric is fine), refrigerator, freezer, sink, microwave (optional, but useful), and at least one electrical outlet.\n",
    "\n",
    "You will need the following equipment to complete experiments:\n",
    "\n",
    "* Measuring cups\n",
    "* Measuring spoons\n",
    "* Mixing bowls (small and medium)\n",
    "* Saucepan or pot (medium or large) with lid\n",
    "* Knife\n",
    "* Whisk or fork\n",
    "* Cutting board\n",
    "* Baking dish, 9 inches by 13 inches\n",
    "* Drinking glasses\n",
    "* Coffee mugs (or other well-insulated vessels)\n",
    "* Dish towels or blankets (for insulation)\n",
    "* Aluminum foil\n",
    "* Oven mitt(s)\n",
    "* Oven thermometer (with a maximum temperature of 550 °F or higher)\n",
    "* Food thermometer\n",
    "* Kitchen scale\n",
    "* Ruler\n",
    "\n",
    "The following foods will be necessary:\n",
    "\n",
    "* Eggs\n",
    "* Milk or heavy cream\n",
    "* Sugar\n",
    "* Flour, all-purpose\n",
    "* Ice\n",
    "* Salt\n",
    "* Soy sauce (or water with food coloring)\n",
    "* Chocolate (milk or dark, although the latter is recommended)\n",
    "* Butter\n",
    "* Vegetable oil\n",
    "* White wine vinegar\n",
    "* Tea, coffee, or hot chocolate\n",
    "* Various fats such as peanut oil, olive oil, etc.\n",
    "\n",
    "If you're looking to stock up your kitchen for the long haul, I would also recommend the following. None of these are required for this course, though!\n",
    "\n",
    "* Electric mixer\n",
    "* Full set of kitchen knives\n",
    "* Wooden spoon\n",
    "* Plastic or metal spatula\n",
    "* Rubber spatula(s)\n",
    "* Frying pan and/or griddle\n",
    "* Blender"
   ]
  },
  {
   "cell_type": "code",
   "execution_count": null,
   "metadata": {},
   "outputs": [],
   "source": []
  }
 ],
 "metadata": {
  "kernelspec": {
   "display_name": "Python 3",
   "language": "python",
   "name": "python3"
  },
  "language_info": {
   "codemirror_mode": {
    "name": "ipython",
    "version": 3
   },
   "file_extension": ".py",
   "mimetype": "text/x-python",
   "name": "python",
   "nbconvert_exporter": "python",
   "pygments_lexer": "ipython3",
   "version": "3.7.5"
  }
 },
 "nbformat": 4,
 "nbformat_minor": 2
}
