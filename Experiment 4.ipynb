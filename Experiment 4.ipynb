{
 "cells": [
  {
   "cell_type": "markdown",
   "metadata": {},
   "source": [
    "# Experiment 4. Investigating Diffusion\n",
    "\n",
    "In this experiment we will study [diffusion](https://en.wikipedia.org/wiki/Diffusion) quantitatively and measure diffusion coefficients. At its root, diffusion is a [random walk](https://en.wikipedia.org/wiki/Random_walk) process involving the stochastic back-and-forth motion of particles. Over time, very large numbers of collisions cause particles in a mixture to move from a region of high concentration into a region of lower concentration; this spreading is what we call diffusion. The diffusion length $\\ell$ is a measure of how far a diffusing solute has moved through a material. In the kitchen, we are often concerned with _how long_ it takes for one substance to diffuse through another. This is true for both material substances, which we will study here, and heat, whose \"motion\" is also well described by a random walk model (we'll get to heat later in the course). For material solutes, the diffusion length and time are related by the following equation.\n",
    "\n",
    "$\\ell = (4Dt)^{1/2}$\n",
    "\n",
    "The quantity $D$ is the [diffusion coefficient](https://en.wikipedia.org/wiki/Mass_diffusivity) or \"mass diffusivity.\" Note that $D$ must have units of length<sup>2</sup>/time for the units on both sides of the equation to match. The diffusion coefficient usually refers to two substances, the solute and the solvent, because changing either tends to change the rate of diffusion."
   ]
  },
  {
   "cell_type": "markdown",
   "metadata": {},
   "source": [
    "# I. Diffusion in Egg Whites\n",
    "\n",
    "Here we will use soy sauce or colored water to observe and measure the diffusion of water through egg white. Note that this experiment takes quite a long time; you should expect to make measurements over a 24-hour period.\n",
    "\n",
    "## Utensils and Appliances\n",
    "\n",
    "- Knife\n",
    "- Saucepan or pot\n",
    "- Stove\n",
    "- Flat container\n",
    "- Aluminum foil\n",
    "\n",
    "## Ingredients\n",
    "\n",
    "- Eggs (2 – 3), room temperature\n",
    "- Soy sauce or food coloring\n",
    "- Vinegar\n",
    "\n",
    "## Directions\n",
    "\n",
    "1. Allow the eggs to come to room temperature. Fill your pot with some water and add the eggs and a tiny amount of vinegar; boil the eggs for about 20 minutes or until they are fully cooked. Adding vinegar makes the eggs easier to peel.\n",
    "2. Remove the eggs and run them under cold water. Peel and discard the shells. Cut each egg in half and carefully scoop out the egg yolk without disturbing the white. At the end each half-egg should resemble an intact \"bowl.\"\n",
    "3. Fill each egg white about two-thirds up with soy sauce or colored water (1 drop food coloring per 3 tbsp water). Carefully add the eggs to the flat container.\n",
    "4. Cover the container with aluminum foil to minimize evaporation. Record the time at which diffusion started in your notebook.\n",
    "5. Over the next 24 hours and a total of 5 times, take one egg piece every few hours, quickly rinse off excess soy sauce, blot it dry, and cut it in half bisecting the \"bowl.\" Use a ruler to measure the depth that the color has penetrated into the egg white in millimeters. Record this length and the time elapsed. Discard (or eat!) each egg white after measuring it.\n",
    "6. Use your results and the interactive below to measure the diffusion coefficient for soy sauce (or water) in egg whites. Make sure to convert all of your times elapsed to seconds; [Wolfram Alpha](https://www.wolframalpha.com/) can help with this. The equation shown below the plot includes the diffusion coefficient calculated using your data."
   ]
  },
  {
   "cell_type": "code",
   "execution_count": null,
   "metadata": {},
   "outputs": [],
   "source": [
    "from scipy import stats\n",
    "import numpy as np\n",
    "import matplotlib.pyplot as pyplot\n",
    "from IPython.display import display, Math\n",
    "\n",
    "# Fill in your times elapsed in seconds, leaving the zero point\n",
    "times_sec = [0, 18000, 36000, 54000, 72000, 90000]\n",
    "# Fill in your lengths in millimeters, leaving the zero point\n",
    "depths_mm = [0, 12.0, 16.9, 20.8, 23.5, 26.7]\n",
    "\n",
    "sqrt_times = [np.sqrt(time) for time in times_sec]\n",
    "slope, intercept, r_value, p_value, std_err = stats.linregress(sqrt_times, depths_mm)\n",
    "\n",
    "depths_best = [time * slope + intercept for time in sqrt_times]\n",
    "pyplot.scatter(sqrt_times, depths_mm)\n",
    "pyplot.plot(sqrt_times, depths_best)\n",
    "pyplot.xlabel(\"$\\sqrt{t} \\; (\\mathrm{s}^{1/2})$\")\n",
    "pyplot.ylabel(\"Diffusion length (mm)\")\n",
    "pyplot.title(\"Diffusion Length over Time, Soy Sauce in Egg White\")\n",
    "pyplot.show()\n",
    "display(Math(\"$\\ell = \\sqrt{4(\" + str(round((slope * slope / 4), 5)) + \" \\; \\mathrm{mm^2/s})t} + \" + str(round(intercept, 5)) + \"$\"))\n",
    "\n",
    "# Click in this cell and press Shift-Enter to execute its code"
   ]
  },
  {
   "cell_type": "markdown",
   "metadata": {},
   "source": [
    "# II. Making Ceviche\n",
    "\n",
    "Ceviche is a famous Spanish dish that beautifully illustrates the concept of diffusion. Pieces of fish are placed in acid and \"cooked\" at room temperature via the action of hydrated protons (H<sup>+</sup>) on the fish. As we did with soy sauce and egg whites, we are going to measure the diffusion coefficient for protons through fish by measuring the distance the acid penetrates periodically over time.\n",
    "\n",
    "___NOTE:___ It is extremely important to use sashimi-grade fish in this recipe to avoid food-borne illness. It is very common to find in fish a parasite called [Anisakis](https://en.wikipedia.org/wiki/Anisakis), which can withstand the action of acid solutions during periods as long as months. To avoid any risk, the fish should be frozen before preparing the ceviche or after the ceviche is done but before eating it at a temperature of –18 ºC for 72 hours.\n",
    "\n",
    "## Utensils and Appliances\n",
    "\n",
    "- Bowl or pot\n",
    "- Knife\n",
    "\n",
    "## Ingredients\n",
    "\n",
    "- 0.5 pound (225 g) sashimi-grade fish or shrimp\n",
    "- 1.5 cups (300 ml) lime juice\n",
    "- 0.5 cup (120 ml) diced tomatoes\n",
    "- 0.25 cup (60 ml) diced red onion\n",
    "- 0.25 cup (60 ml) roughly chopped cilantro\n",
    "- Salt\n",
    "- Avocado, peeled, seeded, and sliced\n",
    "- Tortilla chips\n",
    "\n",
    "## Directions\n",
    "\n",
    "1. If using fish, cut the fish into half-inch cubes. If using shrimp, ensure that the shrimp are peeled.\n",
    "2. Set aside six pieces for the experiment and save the remainder for the full ceviche recipe.\n",
    "3. Place the lime juice in a bowl or pot. Ensure that dimensions of your container allow the liquid to fully cover the fish or shrimp.\n",
    "4. Place only _five_ pieces of fish in the lime juice. Save one piece for comparison (as a control).\n",
    "5. After 5, 10, 20, 40, and 60 minutes, take out a piece of fish and cut it in half. You should be able to observe a change in color and texture near the edge, indicating where acid has penetrated into the fish. Measure and record the distance from the edge to the acid \"front.\"\n",
    "6. Meanwhile, prepare the full ceviche recipe. Place the rest of the fish/shrimp in the lime juice for 20 minutes. After 20 minutes, drain the juice and mix all of the ingredients except the avocado with the fish. Garnish servings with the avocado slices and eat with tortilla chips.\n",
    "7. Use your results and the interactive below to measure the diffusion coefficient of protons (acid) through fish."
   ]
  },
  {
   "cell_type": "code",
   "execution_count": null,
   "metadata": {},
   "outputs": [],
   "source": [
    "from scipy import stats\n",
    "import numpy as np\n",
    "import matplotlib.pyplot as pyplot\n",
    "from IPython.display import display, Math\n",
    "\n",
    "# Fill in your times elapsed in seconds, leaving the zero point. The times below should match yours,\n",
    "# so you likely won't need to change anything here\n",
    "times_sec = [0, 300, 600, 1200, 2400, 3600]\n",
    "# Fill in your lengths in millimeters, leaving the zero point\n",
    "depths_mm = [0, 1.6, 2.2, 3.1, 4.4, 5.4]\n",
    "\n",
    "sqrt_times = [np.sqrt(time) for time in times_sec]\n",
    "slope, intercept, r_value, p_value, std_err = stats.linregress(sqrt_times, depths_mm)\n",
    "\n",
    "depths_best = [time * slope + intercept for time in sqrt_times]\n",
    "pyplot.scatter(sqrt_times, depths_mm)\n",
    "pyplot.plot(sqrt_times, depths_best)\n",
    "pyplot.xlabel(\"$\\sqrt{t} \\; (\\mathrm{s}^{1/2})$\")\n",
    "pyplot.ylabel(\"Diffusion length (mm)\")\n",
    "pyplot.title(\"Diffusion Length over Time, Acid in Fish\")\n",
    "pyplot.show()\n",
    "display(Math(\"$\\ell = \\sqrt{4(\" + str(round((slope * slope / 4), 5)) + \" \\; \\mathrm{mm^2/s})t} + \" + str(round(intercept, 5)) + \"$\"))\n",
    "\n",
    "# Click in this cell and press Shift-Enter to execute its code"
   ]
  },
  {
   "cell_type": "code",
   "execution_count": null,
   "metadata": {},
   "outputs": [],
   "source": []
  }
 ],
 "metadata": {
  "kernelspec": {
   "display_name": "Python 3",
   "language": "python",
   "name": "python3"
  },
  "language_info": {
   "codemirror_mode": {
    "name": "ipython",
    "version": 3
   },
   "file_extension": ".py",
   "mimetype": "text/x-python",
   "name": "python",
   "nbconvert_exporter": "python",
   "pygments_lexer": "ipython3",
   "version": "3.7.5"
  }
 },
 "nbformat": 4,
 "nbformat_minor": 2
}
