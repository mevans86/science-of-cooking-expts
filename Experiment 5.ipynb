{
 "cells": [
  {
   "cell_type": "markdown",
   "metadata": {},
   "source": [
    "# Experiment 5. Heat Transfer and Molten Chocolate Cake\n",
    "\n",
    "Like matter, heat can be thought of as diffusing through materials according to a random walk model. We can express the depth to which heat has penetrated into a material using a diffusion length $\\ell$. The dependence of $\\ell$ on time is expressed in the equation below, which we've seen before.\n",
    "\n",
    "$\\ell = \\sqrt{4Dt}$\n",
    "\n",
    "In this experiment, we will measure the heat diffusion coefficient of chocolate cake batter by investigating a delicious recipe for molten chocolate cake. Because the batter is mostly water, a reasonable hypothesis is that the heat diffusion coefficient will be similar to that of water...but we’ll need to experiment to determine this! Two methods of preparing the cake are provided below in Parts I and II; _choose one_ to actually carry out."
   ]
  },
  {
   "cell_type": "markdown",
   "metadata": {},
   "source": [
    "# Preparation of the Batter\n",
    "\n",
    "Follow the instructions below to prepare the cake batter. Only some of the batter will be used for experimentation; you can use the rest to prepare a cake for eating!\n",
    "\n",
    "## Utensils and Appliances\n",
    "\n",
    "* 1 pot and metal bowl or 1 microwave-safe bowl\n",
    "* 1 medium bowl (for wet ingredients)\n",
    "* 1 small bowl (for dry ingredients)\n",
    "* Kitchen scale\n",
    "* Fork or whisk\n",
    "\n",
    "## Ingredients\n",
    "\n",
    "* 4 oz (120 g) dark chocolate chips\n",
    "* 8 tbsp (1 stick) butter\n",
    "* 4 oz (120 g) granulated sugar\n",
    "* 5 large eggs\n",
    "* 2 oz (60 g) all-purpose flour\n",
    "* Pinch salt\n",
    "\n",
    "## Directions\n",
    "\n",
    "1. Melt the chocolate chips and butter together.\n",
    "\t1. _Microwave method._ Measure the chocolate chips and butter into a microwave-safe bowl and microwave on high for 1 minute. Mix the chocolate and melted butter until uniform and set aside to cool.\n",
    "\t2. _Stove method._ Place the chocolate chips and butter in a small pot and heat on low with stirring until the chocolate and butter melt together.\n",
    "2. Mix the sugar and eggs well in a medium bowl. Add the chocolate mixture.\n",
    "3. Weigh out the flour and salt into a small bowl, then add it to the chocolate mixture and stir to incorporate. The resulting batter will be used in the following experiments."
   ]
  },
  {
   "cell_type": "markdown",
   "metadata": {},
   "source": [
    "# I. Steamed Molten Chocolate Cake\n",
    "\n",
    "The method described here relies on steam as the \"heat delivery agent.\" The batter will be separated into 4 – 6 small cups and placed in a water bath heated to boiling. We will periodically measure temperatures inside the cake and the depth to which the cooked crust has penetrated. The dependence of crust depth on time can be used to determine a heat diffusion coefficient for the batter.\n",
    "\n",
    "## Utensils and Appliances\n",
    "\n",
    "* Stove\n",
    "* Large pot or saucepan with lid\n",
    "* Towel\n",
    "* Six small heat-proof cups or aluminum foil cups (see Directions)\n",
    "* Cutting board\n",
    "* Knife\n",
    "* Ruler\n",
    "* Oven mitt or tongs\n",
    "* Food thermometer\n",
    "\n",
    "## Directions\n",
    "\n",
    "1. Prepare a table like the one below in your notebook.<sup>1</sup>\n",
    "2. If you’re using foil cups, use a bottle with a flat bottom and about 2-inch diameter as a mold. Use two layers of foil for each cup and ensure that they are at least two inches high. Coat the insides of the cups with oil to prevent sticking.\n",
    "3. Fill the pot with about half an inch of water and place on the stove. Pour batter about 1 inch high in at least 4 cups (ideally 6), then place the cups in the water.\n",
    "4. Line the pot lid with a towel to trap steam and place it on the pot.\n",
    "5. Heat the pot on medium until you observe boiling, then turn the heat to medium-low to simmer.\n",
    "6. At the time points indicated in the table below, remove a cake and immediately measure the temperature at three locations: the center, halfway between the center and edge, and near the edge. Record these temperatures in the table.\n",
    "7. Cut the cake in half and measure the depth of the crust from the edge inward. Record the depth in your table.\n",
    "8. Repeat the steps above at the indicated time points.\n",
    "9. Use the interactive below to determine the heat diffusion coefficient of chocolate cake batter.\n",
    "\n",
    "## Notes\n",
    "\n",
    "1. The times suggested in the table are designed so that the cake is mostly uncooked at the first time point and fully cooked at the last. If you notice the cake cooking too quickly or slowly, adjust the times so that you get a broad range of temperatures and crust depths."
   ]
  },
  {
   "cell_type": "markdown",
   "metadata": {},
   "source": [
    "| Data point | Time elapsed (min) | $T_{center}$ (ºC) | $T_{halfway}$ (ºC) | $T_{edge}$ (ºC) | Depth of crust (mm) |\n",
    "| ----- | ----- | ----- | ----- | ----- | ----- |\n",
    "| 1 | 7 | | | | |\n",
    "| 2 | 9 | | | | |\n",
    "| 3 | 11 | | | | |\n",
    "| 4 | 14 | | | | |\n",
    "| 5 | 16 | | | | |\n",
    "| 6 | 18 | | | | |"
   ]
  },
  {
   "cell_type": "code",
   "execution_count": null,
   "metadata": {},
   "outputs": [],
   "source": [
    "from scipy import stats\n",
    "import numpy as np\n",
    "import matplotlib.pyplot as pyplot\n",
    "from IPython.display import display, Math\n",
    "\n",
    "# Fill in your times elapsed in seconds, leaving the zero point\n",
    "times_sec = [0, 420, 540, 660, 840, 960, 1080]\n",
    "# Fill in your lengths in millimeters, leaving the zero point\n",
    "depths_mm = [0, 17, 20, 22, 25, 26, 28]\n",
    "\n",
    "sqrt_times = [np.sqrt(time) for time in times_sec]\n",
    "slope, intercept, r_value, p_value, std_err = stats.linregress(sqrt_times, depths_mm)\n",
    "\n",
    "depths_best = [time * slope + intercept for time in sqrt_times]\n",
    "pyplot.scatter(sqrt_times, depths_mm)\n",
    "pyplot.plot(sqrt_times, depths_best)\n",
    "pyplot.xlabel(\"$\\sqrt{t} \\; (\\mathrm{s}^{1/2})$\")\n",
    "pyplot.ylabel(\"Diffusion length (mm)\")\n",
    "pyplot.title(\"Heat Diffusion Length over Time, Steamed Cake\")\n",
    "pyplot.show()\n",
    "display(Math(\"$\\ell = \\sqrt{4(\" + str(round((slope * slope / 4), 5)) + \" \\; \\mathrm{mm^2/s})t} + \" + str(round(intercept, 5)) + \"$\"))\n",
    "\n",
    "# Click in this cell and press Shift-Enter to execute its code"
   ]
  },
  {
   "cell_type": "markdown",
   "metadata": {},
   "source": [
    "# II. Baked Molten Chocolate Cake\n",
    "\n",
    "The method below uses the oven as the \"heat delivery agent.\" The batter will be separated into 6 small cups and placed in the oven to bake at 350 ºF. We will periodically measure temperatures inside the cake and the depth to which the cooked crust has penetrated. The dependence of crust depth on time can be used to determine a heat diffusion coefficient for the batter.\n",
    "\n",
    "## Utensils and Appliances\n",
    "\n",
    "* Baking dish\n",
    "* Six small heat-proof cups, ramekins, or aluminum foil cups (see Directions)\n",
    "* Cutting board\n",
    "* Knife\n",
    "* Ruler\n",
    "* Oven mitt or tongs\n",
    "* Food thermometer\n",
    "\n",
    "## Directions\n",
    "\n",
    "1. Prepare a table like the one below in your notebook.<sup>1</sup>\n",
    "2. If you’re using foil cups, use a bottle with a flat bottom and about 2-inch diameter as a mold. Use two layers of foil for each cup and ensure that they are at least two inches high. Coat the insides of the cups with oil to prevent sticking.\n",
    "3. Preheat your oven such that the internal temperature is _actually_ 350 ºF. Use your calibration curve from Experiment 1 to determine the correct set point for your oven to achieve this temperature.\n",
    "4. Pour batter about 1 inch high in 6 cups, then place the cups in the baking dish. Place the baking dish in the oven in the same location where you ran your calibration experiment previously.\n",
    "5. At the time points indicated in the table below, remove a cake and immediately measure the temperature at three locations: the center, halfway between the center and edge, and near the edge. Record these temperatures in the table.\n",
    "6. Cut the cake in half and measure the depth of the crust from the edge inward. Record the depth in your table.\n",
    "7. Repeat the steps above at the indicated time points.\n",
    "8. Use the interactive below to determine the heat diffusion coefficient of chocolate cake batter.\n",
    "\n",
    "## Notes\n",
    "\n",
    "1. The times suggested in the table are designed so that the cake is mostly uncooked at the first time point and fully cooked at the last. If you notice the cake cooking too quickly or slowly, adjust the times so that you get a broad range of temperatures and crust depths."
   ]
  },
  {
   "cell_type": "markdown",
   "metadata": {},
   "source": [
    "| Data point | Time elapsed (min) | $T_{center}$ (ºC) | $T_{halfway}$ (ºC) | $T_{edge}$ (ºC) | Depth of crust (mm) |\n",
    "| ----- | ----- | ----- | ----- | ----- | ----- |\n",
    "| 1 | 5 | | | | |\n",
    "| 2 | 8 | | | | |\n",
    "| 3 | 10 | | | | |\n",
    "| 4 | 12 | | | | |\n",
    "| 5 | 14 | | | | |\n",
    "| 6 | 16 | | | | |"
   ]
  },
  {
   "cell_type": "code",
   "execution_count": null,
   "metadata": {},
   "outputs": [],
   "source": [
    "from scipy import stats\n",
    "import numpy as np\n",
    "import matplotlib.pyplot as pyplot\n",
    "from IPython.display import display, Math\n",
    "\n",
    "# Fill in your times elapsed in seconds, leaving the zero point\n",
    "times_sec = [0, 420, 540, 660, 840, 960, 1080]\n",
    "# Fill in your lengths in millimeters, leaving the zero point\n",
    "depths_mm = [0, 17, 20, 22, 25, 26, 28]\n",
    "\n",
    "sqrt_times = [np.sqrt(time) for time in times_sec]\n",
    "slope, intercept, r_value, p_value, std_err = stats.linregress(sqrt_times, depths_mm)\n",
    "\n",
    "depths_best = [time * slope + intercept for time in sqrt_times]\n",
    "pyplot.scatter(sqrt_times, depths_mm)\n",
    "pyplot.plot(sqrt_times, depths_best)\n",
    "pyplot.xlabel(\"$\\sqrt{t} \\; (\\mathrm{s}^{1/2})$\")\n",
    "pyplot.ylabel(\"Diffusion length (mm)\")\n",
    "pyplot.title(\"Heat Diffusion Length over Time, Baked Cake\")\n",
    "pyplot.show()\n",
    "display(Math(\"$\\ell = \\sqrt{4(\" + str(round((slope * slope / 4), 5)) + \" \\; \\mathrm{mm^2/s})t} + \" + str(round(intercept, 5)) + \"$\"))\n",
    "\n",
    "# Click in this cell and press Shift-Enter to execute its code"
   ]
  },
  {
   "cell_type": "markdown",
   "metadata": {},
   "source": [
    "# III. Molten Chocolate Cake Recipe\n",
    "\n",
    "You can essentially use the directions in Part II above as a recipe for molten chocolate cake. Use the rest of the batter to prepare cakes for yourself or your friends or family!"
   ]
  },
  {
   "cell_type": "code",
   "execution_count": null,
   "metadata": {},
   "outputs": [],
   "source": []
  }
 ],
 "metadata": {
  "kernelspec": {
   "display_name": "Python 3",
   "language": "python",
   "name": "python3"
  },
  "language_info": {
   "codemirror_mode": {
    "name": "ipython",
    "version": 3
   },
   "file_extension": ".py",
   "mimetype": "text/x-python",
   "name": "python",
   "nbconvert_exporter": "python",
   "pygments_lexer": "ipython3",
   "version": "3.7.5"
  }
 },
 "nbformat": 4,
 "nbformat_minor": 2
}
