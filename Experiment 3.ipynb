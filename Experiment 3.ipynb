{
 "cells": [
  {
   "cell_type": "markdown",
   "metadata": {},
   "source": [
    "# Experiment 3. Phase Transitions: Melting of Fats\n",
    "\n",
    "[Phase transitions](https://en.m.wikipedia.org/wiki/Phase_transition), which involve the conversion of one state of matter into another, abound in cooking. Phase transitions are not chemical reactions but _physical changes_ that result from the reorganization of molecules without bond formation or cleavage. Much of the temperature-dependent behavior of foods is due to phase transitions. This is certainly true for the lipids, which are also called fats or oils depending on their state at room temperature. In this experiment, we will measure the temperatures at which various fats melt and relate the results to the structures of fats on the molecular level."
   ]
  },
  {
   "cell_type": "markdown",
   "metadata": {},
   "source": [
    "# I. Measuring Melting Temperatures of Fats\n",
    "\n",
    "In this experiment, we will begin by cooling four lipids of your choice to near 0 ºC. This will cause them all to solidify. We will then slowly raise the temperature and look for a solid-to-liquid (melting) phase transition. We will see that the melting temperatures of fats can generally be related to their structures on the molecular level. This is because interactions between molecules ([intermolecular forces](https://en.wikipedia.org/wiki/Intermolecular_force)) determine the temperature required to cause a phase transition.\n",
    "\n",
    "## Utensils and Appliances\n",
    "\n",
    "* Aluminum foil\n",
    "* Baking dish, at least 8” by 8”\n",
    "* Food thermometer\n",
    "* Stove or microwave\n",
    "* Dish towels or other cloths (for insulation)\n",
    "\n",
    "## Ingredients\n",
    "\n",
    "* Water and ice\n",
    "* Four fats selected from the following:\n",
    "\t* Olive oil\n",
    "\t* Peanut oil\n",
    "\t* Coconut oil\n",
    "\t* Vegetable shortening\n",
    "\t* Cocoa butter\n",
    "\t* Margarine\n",
    "\t* Butter\n",
    "\t* Palm oil\n",
    "\n",
    "## Directions\n",
    "\n",
    "1. Create four small cups out of aluminum foil, one for each of your fats. Cut a 5-inch square of foil and use a small cup, spice container, or other cylinder as a mold. Each cup should be 2 – 3 inches in diameter with a flat bottom. Prepare a table like the one below in your notebook to note the states of each fat at each temperature.\n",
    "2. Measure 20 – 30 grams of each fat into the aluminum cups. The exact amount is not important.\n",
    "3. Record the temperature of the room and note the state (liquid or solid) of each fat at this temperature in your table.\n",
    "4. Add about a half-inch of cold water to the baking dish and wrap the dish in towels to insulate it. Add ice and stir until the temperature is as close to 0 °C as possible. Record the temperature of the water.\n",
    "5. Note the liquid level in the dish and ensure that it isn’t higher than the height of your aluminum cups. Gently place the cups in the dish. Cover the dish with aluminum foil and another insulating towel.\n",
    "6. Allow the dish to sit for 5 – 10 minutes, then remove the cover and check the fats. Record the state of each fat at the temperature of the bath. You may observe a phase change in progress—if you do, it’s safe to assume that the fat will eventually become entirely solid. We will soon study how and why heat transfers take time!\n",
    "7. Once you have finished recording the state of each fat at the coldest temperature, remove the cups and the ice cubes from the tray and mix in enough hot water (from your tap or heated in the microwave) to raise the temperature by 5 – 10 °C. Using the smallest amount of hot water possible is recommended!\n",
    "8. Gently return the cups to the dish and cover it with aluminum foil and a towel. Again allow the fats to sit for 5 – 10 minutes to warm them to the new temperature.\n",
    "9. Remove the cover, record the temperature of the water bath, and record the state of each fat at the new temperature.\n",
    "10. Repeat steps 7 – 9, adding additional hot water and recording the states of the fats each time, until all the fats have melted or your water temperature rises higher than 70 °C.\n",
    "11. Use the interactive below to prepare a graph of your melting temperatures. Change the labels to reflect the fats you studied and order them from lowest to highest melting temperature."
   ]
  },
  {
   "cell_type": "markdown",
   "metadata": {},
   "source": [
    "| Temperature (ºC) | Fat 1 | Fat 2 | Fat 3 | Fat 4 | \n",
    "| ---------------- | ----- | ----- | ----- | ----- |\n",
    "| \\[Room temperature\\] | | | | |\n",
    "| \\[Coldest\\] | | | | |\n",
    "| ... | | | | |\n",
    "| ... | | | | |\n",
    "| \\[Warmest\\] | | | | |"
   ]
  },
  {
   "cell_type": "code",
   "execution_count": null,
   "metadata": {},
   "outputs": [],
   "source": [
    "import numpy as np\n",
    "import matplotlib.pyplot as pyplot\n",
    "\n",
    "# List the fats you studied here\n",
    "fats = [\"Peanut oil\", \"Coconut oil\", \"Cocoa butter\", \"Palm oil\"]\n",
    "# List the corresponding melting temperatures here in degrees Celsius\n",
    "T_melts = [5, 25, 40, 40]\n",
    "\n",
    "pyplot.bar(np.arange(4), T_melts, align = \"center\")\n",
    "pyplot.ylabel(\"Melting Temperature (ºC)\")\n",
    "pyplot.xticks(np.arange(4), fats)\n",
    "pyplot.title(\"Melting Temperatures of Fats\")\n",
    "pyplot.show()\n",
    "\n",
    "# Click in this cell and press Shift-Enter to execute its code"
   ]
  },
  {
   "cell_type": "markdown",
   "metadata": {},
   "source": [
    "## Chemical Explanations: Why the Differences?\n",
    "\n",
    "It is possible to explain differences in the melting temperatures of fats and oils by considering the structures of the fatty acids that make up these ingredients. Note the fatty acid compositions of fats and oils at [this link](https://www.uccs.edu/Documents/danderso/fats_oils.pdf). Do you notice any correlations between your results and the data presented in the figure? The figure is reproduced below and has been adapted from *Personal Nutrition*, 6th Ed., Boyle & Anderson, Thomson/Wadsworth, 2007.\n",
    "\n",
    "![alt text](img/fats_composition.png \"Types of fatty acids found in various fats and oils\")\n",
    "\n",
    "Examine the structures of [palmitic acid](https://pubchem.ncbi.nlm.nih.gov/compound/985#section=3D-Conformer&fullscreen=true) and [oleic acid](https://pubchem.ncbi.nlm.nih.gov/compound/445639#section=3D-Conformer&fullscreen=true) at their corresponding links. Palmitic acid is a saturated fatty acid, more commonly found in animal fats, while oleic acid is an unsaturated fatty acid, more commonly found in vegetable fats. Compare and contrast their shapes and propose an explanation for the apparent difference in melting temperature between saturated and unsaturated fats."
   ]
  },
  {
   "cell_type": "markdown",
   "metadata": {},
   "source": [
    "# II. Dip Recipes\n",
    "\n",
    "Coming soon!"
   ]
  }
 ],
 "metadata": {
  "kernelspec": {
   "display_name": "Python 3",
   "language": "python",
   "name": "python3"
  },
  "language_info": {
   "codemirror_mode": {
    "name": "ipython",
    "version": 3
   },
   "file_extension": ".py",
   "mimetype": "text/x-python",
   "name": "python",
   "nbconvert_exporter": "python",
   "pygments_lexer": "ipython3",
   "version": "3.7.5"
  }
 },
 "nbformat": 4,
 "nbformat_minor": 2
}
