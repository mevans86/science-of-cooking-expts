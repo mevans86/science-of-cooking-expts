{
 "cells": [
  {
   "cell_type": "markdown",
   "metadata": {},
   "source": [
    "# Experiment 2. Studies of Temperature\n",
    "\n",
    "This experiment is a deeper dive into [temperature](https://en.wikipedia.org/wiki/Temperature). Temperature is a critical experimental variable in the kitchen that affects both the rates of transformations that cooked food undergo and our perception of various flavors in finished dishes. We will first measure the specific heats of three food items and note an interesting trend in the results. Then, we will explore the effect of temperature on flavor, varying the temperature of a beverage and exploring how perceived flavors change as a result."
   ]
  },
  {
   "cell_type": "markdown",
   "metadata": {},
   "source": [
    "# I. Specific Heats of Fruits and Vegetables\n",
    "\n",
    "The [specific heat capacity](https://en.wikipedia.org/wiki/Specific_heat_capacity) (or just \"specific heat\") of a substance describes how much heat is required to raise the temperature of a defined mass of a substance by one degree of temperature. Specific heat is usually denoted with the lower-case letter $c$. If we apply a set or known amount of heat to a substance and measure how much its temperature increases and its mass, we can calculate specific heat as follows.\n",
    "\n",
    "$c = \\frac{\\mathrm{heat \\, applied}}{\\mathrm{amount \\, of \\, temperature \\, increase} \\; \\times \\; \\mathrm{mass \\, of \\, substance}} = \\frac{q}{\\Delta T \\; \\times \\; m}$\n",
    "\n",
    "Common units of specific heat include Joules per gram per degree Celsius (J/g&middot;&deg;C) and calories per gram per degree Celsius (cal/g&middot;&deg;C). A heat of 1 calorie corresponds to 4.184 Joules.\n",
    "\n",
    "Considering specific heat is important in the kitchen because although we usually apply a uniform amount of heat to all the ingredients in a food, this heat causes different temperature changes in the different ingredients due to differences in specific heat. For example, we might heat a stew on the stove and find that the meats heat up more quickly than the liquids. This happens because the specific heats of the liquids are much higher than those of the meats; in other words, a larger quantity of heat is required to increase the temperatures of the liquids by a set amount than the meats. (Of course, the thickness of the meat also plays a role, and we'll get into this later.) Different foods with different amounts of the four basic food molecules have different specific heats and thus heat up at different rates on the stove or in the oven.\n",
    "\n",
    "The specific heat of water is well known; it is equal to 1 cal/g&middot;&deg;C or 4.184 J/g&middot;&deg;C. In this experiment, we will use a measured decrease in the temperature of hot water as a readily measured quantity of heat. At the same time, we will use the temperature _increase_ in refrigerated fruits and vegetables in contact with the hot water to calculate their specific heats. In fruits and vegetables, one of the four basic food molecules clearly dominates; as we'll see here, the specific heats of these foods tend to be close to a standard value for this molecule. \n",
    "\n",
    "## Utensils and Appliances\n",
    "\n",
    "- Microwave or stove\n",
    "- Kitchen scale\n",
    "- Food thermometer ([example](https://www.amazon.com/ThermoPro-Digital-Instant-Thermometer-Kitchen/dp/B01IHHLB3W/ref=sr_1_4))\n",
    "- Well-insulated mug or thermos, such as a coffee mug or Hydro Flask\n",
    "\n",
    "## Ingredients\n",
    "\n",
    "- Strawberries\n",
    "- Celery\n",
    "- A fruit or vegetable of your choice that can be easily chopped into small pieces\n",
    "- Water\n",
    "\n",
    "## Directions\n",
    "\n",
    "1. Prepare a data table like the one given below to record results for this experiment.\n",
    "2. Weigh out 40 grams of refrigerated strawberries and chop them coarsely (i.e., into relatively large pieces). Place them back in the refrigerator after chopping them. Measure and record the temperature of your refrigerator ($T_{cold}$), which is also the initial temperature of the strawberries.\n",
    "3. Using your stove or microwave, heat 1 cup (237 mL) of water to approximately 150 ºF (65 ºC).\n",
    "4. Remove the strawberries from the refrigerator and place them in a well-insulated vessel. Record the temperature of the hot water ($T_{hot}$) and _carefully_ transfer it into the vessel with the strawberries. Stir or swirl the vessel briefly.\n",
    "5. Measure the temperature of the strawberry-water mixture when it stabilizes. We will call this $T_{eq}$.\n",
    "6. Repeat the steps above using refrigerated celery, again recording $T_{cold}$, $T_{hot}$, and $T_{eq}$. Note that $T_{hot}$ does not have to match the value used previously and $T_{eq}$ is likely to differ when celery is used!\n",
    "7. Repeat the steps above for a fruit or vegetable of your choice.\n",
    "8. Use your results to calculate the specific heats of strawberries, celery, and your fruit or vegetable of choice. Use [this page](https://www.engineeringtoolbox.com/specific-heat-capacity-food-d_295.html) to find previously measured specific heats of foods and calculate the percent errors of your measured values. If your errors seem large, why do you think a discrepancy is occurring?"
   ]
  },
  {
   "cell_type": "markdown",
   "metadata": {},
   "source": [
    "## Table of Results\n",
    "\n",
    "| Food Item | $T_{cold}$ (ºC) | $T_{hot}$ (ºC) | $T_{eq}$ (ºC) | $c$ (cal/g&middot;ºC) |\n",
    "| --------- | --------- | -------- | ------- | ----- |\n",
    "| Strawberries |  |  |  |  |\n",
    "| Celery |  |  |  |  |\n",
    "| \\[Item of choice\\] |  |  |  |  |"
   ]
  },
  {
   "cell_type": "markdown",
   "metadata": {},
   "source": [
    "# II. Temperature and Flavor\n",
    "\n",
    "Temperature can have a profound effect on the perception of flavor. Here, we will perform a simple exercise involving a taste test to explore how our perceptions of the same beverage change with temperature.\n",
    "\n",
    "## Utensils and Appliances\n",
    "\n",
    "- 3 coffee mugs\n",
    "- Measuring cups\n",
    "- Microwave\n",
    "- Refrigerator\n",
    "- Food thermometer\n",
    "\n",
    "## Ingredients\n",
    "\n",
    "- Hot coffee, tea, or hot chocolate\n",
    "- Cream or milk\n",
    "\n",
    "## Directions\n",
    "\n",
    "1. Prepare or purchase at least 6 ounces of hot coffee, tea, or hot chocolate. Measure out 6 ounces (0.75 cup) of the hot beverage and add 2 ounces (0.25 cup) of cream or milk to it, stirring to disperse. In your notebook, make space to record observations of the beverage when \"hot,\" \"warm,\" and \"cold.\"\n",
    "2. Split the beverage evenly into three coffee mugs. Perform the following heating and cooling steps simultaneously, so that all three drinks reach their target temperatures at roughly the same time.\n",
    "3. Cool one of the mugs to 40 – 50 ºF (5 – 10 ºC). You can either put the mug in the refrigerator or freezer until it reaches the desired temperature or set it in a bowl of ice water to cool.\n",
    "4. Heat one of the mugs to 165 – 175 ºF (75 – 80 ºC). Carefully heat the mug in the microwave 10 seconds at a time, measuring the temperature after each \"zap.\"\n",
    "5. Heat one of the mugs to 110 – 120 ºF (45 – 50 ºC). Carefully heat the mug in the microwave 10 seconds at a time, measuring the temperature after each \"zap.\"\n",
    "6. When all three drinks have reached their desired temperatures, taste each one. Start with the cold sample, then move to the warm sample, and finally taste the hot sample. To perform a taste test, use this procedure:\n",
    "\n",
    "> Swirl the contents of each mug briefly, and smell it. The best way to do this is to hold your nose over the glass and take a few short sniffs, then take the container away and give yourself a minute to process your sensations.   Make note of any differences in the sensation that you get from each sample. Depending on whether you are taste-testing coffee, tea, hot chocolate, or another beverage, you may sense different things, such as fruity or floral aromas, herbs, spices, or nuts, or a burned odor.\n",
    "\n",
    "> Take a sip of the contents of each container (a small sip, not a large gulp!), and swirl it around in your mouth before swallowing. As you do, think about the intensity of the sensations, and what dominates your palette—we have taste receptors for sweet, sour, bitter, salty, and savory, and [umami](https://en.wikipedia.org/wiki/Umami), and each beverage will contain one or more of these different tastes. You can also make note of your sensations of heat and cold, which are sometimes associated with spicy peppers and mint or menthol. These are not due to taste receptors on the tongue, but temperature-sensitive receptors throughout the mouth, which can also influence perception of taste."
   ]
  },
  {
   "cell_type": "code",
   "execution_count": null,
   "metadata": {},
   "outputs": [],
   "source": []
  }
 ],
 "metadata": {
  "kernelspec": {
   "display_name": "Python 3",
   "language": "python",
   "name": "python3"
  },
  "language_info": {
   "codemirror_mode": {
    "name": "ipython",
    "version": 3
   },
   "file_extension": ".py",
   "mimetype": "text/x-python",
   "name": "python",
   "nbconvert_exporter": "python",
   "pygments_lexer": "ipython3",
   "version": "3.7.5"
  }
 },
 "nbformat": 4,
 "nbformat_minor": 2
}
